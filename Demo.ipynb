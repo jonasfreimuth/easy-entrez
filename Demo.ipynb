{
 "cells": [
  {
   "cell_type": "code",
   "execution_count": 1,
   "metadata": {},
   "outputs": [],
   "source": [
    "from easy_entrez import EntrezAPI"
   ]
  },
  {
   "cell_type": "code",
   "execution_count": 2,
   "metadata": {},
   "outputs": [],
   "source": [
    "entrez_api = EntrezAPI('yout-tool-name', 'your.email@gmail.com')"
   ]
  },
  {
   "cell_type": "markdown",
   "metadata": {},
   "source": [
    "Search in a database:"
   ]
  },
  {
   "cell_type": "code",
   "execution_count": 3,
   "metadata": {},
   "outputs": [
    {
     "data": {
      "text/plain": [
       "<EntrezResponse status=200 for SearchQuery 'endometriosis AND biomarker AND human[organism]' in pubmed>"
      ]
     },
     "execution_count": 3,
     "metadata": {},
     "output_type": "execute_result"
    }
   ],
   "source": [
    "endo_biomarkers = entrez_api.search('endometriosis AND biomarker AND human[organism]', max_results=10_000)\n",
    "endo_biomarkers"
   ]
  },
  {
   "cell_type": "code",
   "execution_count": 4,
   "metadata": {},
   "outputs": [
    {
     "data": {
      "text/plain": [
       "'1856'"
      ]
     },
     "execution_count": 4,
     "metadata": {},
     "output_type": "execute_result"
    }
   ],
   "source": [
    "endo_biomarkers.data['esearchresult']['count']"
   ]
  },
  {
   "cell_type": "markdown",
   "metadata": {},
   "source": [
    "Summarize first two records:"
   ]
  },
  {
   "cell_type": "code",
   "execution_count": 5,
   "metadata": {},
   "outputs": [
    {
     "data": {
      "text/plain": [
       "{'header': {'type': 'esummary', 'version': '0.3'},\n",
       " 'result': {'uids': ['32486536', '32420898'],\n",
       "  '32486536': {'uid': '32486536',\n",
       "   'pubdate': '2020 Jun 8',\n",
       "   'epubdate': '',\n",
       "   'source': 'Zhonghua Bing Li Xue Za Zhi',\n",
       "   'authors': [{'name': 'Ding XH', 'authtype': 'Author', 'clusterid': ''},\n",
       "    {'name': 'Tian X', 'authtype': 'Author', 'clusterid': ''},\n",
       "    {'name': 'Wang LQ', 'authtype': 'Author', 'clusterid': ''},\n",
       "    {'name': 'Wang Y', 'authtype': 'Author', 'clusterid': ''},\n",
       "    {'name': 'Liu AJ', 'authtype': 'Author', 'clusterid': ''}],\n",
       "   'lastauthor': 'Liu AJ',\n",
       "   'title': '[Expression of ARID1A in ovarian seromucinous neoplasms and its clinicopathological significance].',\n",
       "   'sorttitle': 'expression of arid1a in ovarian seromucinous neoplasms and its clinicopathological significance',\n",
       "   'volume': '49',\n",
       "   'issue': '6',\n",
       "   'pages': '588-593',\n",
       "   'lang': ['chi'],\n",
       "   'nlmuniqueid': '0005331',\n",
       "   'issn': '0529-5807',\n",
       "   'essn': '',\n",
       "   'pubtype': ['Journal Article'],\n",
       "   'recordstatus': 'PubMed - indexed for MEDLINE',\n",
       "   'pubstatus': '4',\n",
       "   'articleids': [{'idtype': 'pubmed', 'idtypen': 1, 'value': '32486536'},\n",
       "    {'idtype': 'doi',\n",
       "     'idtypen': 3,\n",
       "     'value': '10.3760/cma.j.cn112151-20200224-00130'},\n",
       "    {'idtype': 'rid', 'idtypen': 8, 'value': '32486536'},\n",
       "    {'idtype': 'eid', 'idtypen': 8, 'value': '32486536'}],\n",
       "   'history': [{'pubstatus': 'entrez', 'date': '2020/06/04 06:00'},\n",
       "    {'pubstatus': 'pubmed', 'date': '2020/06/04 06:00'},\n",
       "    {'pubstatus': 'medline', 'date': '2020/06/06 06:00'}],\n",
       "   'references': [],\n",
       "   'attributes': ['Has Abstract'],\n",
       "   'pmcrefcount': '',\n",
       "   'fulljournalname': 'Zhonghua bing li xue za zhi = Chinese journal of pathology',\n",
       "   'elocationid': 'doi: 10.3760/cma.j.cn112151-20200224-00130',\n",
       "   'doctype': 'citation',\n",
       "   'srccontriblist': [],\n",
       "   'booktitle': '',\n",
       "   'medium': '',\n",
       "   'edition': '',\n",
       "   'publisherlocation': '',\n",
       "   'publishername': '',\n",
       "   'srcdate': '',\n",
       "   'reportnumber': '',\n",
       "   'availablefromurl': '',\n",
       "   'locationlabel': '',\n",
       "   'doccontriblist': [],\n",
       "   'docdate': '',\n",
       "   'bookname': '',\n",
       "   'chapter': '',\n",
       "   'sortpubdate': '2020/06/08 00:00',\n",
       "   'sortfirstauthor': 'Ding XH',\n",
       "   'vernaculartitle': ''},\n",
       "  '32420898': {'uid': '32420898',\n",
       "   'pubdate': '2020 Feb',\n",
       "   'epubdate': '',\n",
       "   'source': 'Biomed Khim',\n",
       "   'authors': [{'name': 'Menzhinskaya IV',\n",
       "     'authtype': 'Author',\n",
       "     'clusterid': ''},\n",
       "    {'name': 'Melkumyan AG', 'authtype': 'Author', 'clusterid': ''},\n",
       "    {'name': 'Pavlovich SV', 'authtype': 'Author', 'clusterid': ''},\n",
       "    {'name': 'Chuprynin VD', 'authtype': 'Author', 'clusterid': ''},\n",
       "    {'name': 'Vanko LV', 'authtype': 'Author', 'clusterid': ''},\n",
       "    {'name': 'Sukhikh GT', 'authtype': 'Author', 'clusterid': ''}],\n",
       "   'lastauthor': 'Sukhikh GT',\n",
       "   'title': '[Autoimmune markers for non-invasive diagnosis of endometriosis in women].',\n",
       "   'sorttitle': 'autoimmune markers for non invasive diagnosis of endometriosis in women',\n",
       "   'volume': '66',\n",
       "   'issue': '2',\n",
       "   'pages': '162-166',\n",
       "   'lang': ['rus'],\n",
       "   'nlmuniqueid': '101196966',\n",
       "   'issn': '2310-6972',\n",
       "   'essn': '2310-6905',\n",
       "   'pubtype': ['Journal Article'],\n",
       "   'recordstatus': 'PubMed - in process',\n",
       "   'pubstatus': '4',\n",
       "   'articleids': [{'idtype': 'pubmed', 'idtypen': 1, 'value': '32420898'},\n",
       "    {'idtype': 'doi', 'idtypen': 3, 'value': '10.18097/PBMC20206602162'},\n",
       "    {'idtype': 'rid', 'idtypen': 8, 'value': '32420898'},\n",
       "    {'idtype': 'eid', 'idtypen': 8, 'value': '32420898'}],\n",
       "   'history': [{'pubstatus': 'entrez', 'date': '2020/05/19 06:00'},\n",
       "    {'pubstatus': 'pubmed', 'date': '2020/05/19 06:00'},\n",
       "    {'pubstatus': 'medline', 'date': '2020/05/19 06:00'}],\n",
       "   'references': [],\n",
       "   'attributes': ['Has Abstract'],\n",
       "   'pmcrefcount': '',\n",
       "   'fulljournalname': 'Biomeditsinskaia khimiia',\n",
       "   'elocationid': 'doi: 10.18097/PBMC20206602162',\n",
       "   'doctype': 'citation',\n",
       "   'srccontriblist': [],\n",
       "   'booktitle': '',\n",
       "   'medium': '',\n",
       "   'edition': '',\n",
       "   'publisherlocation': '',\n",
       "   'publishername': '',\n",
       "   'srcdate': '',\n",
       "   'reportnumber': '',\n",
       "   'availablefromurl': '',\n",
       "   'locationlabel': '',\n",
       "   'doccontriblist': [],\n",
       "   'docdate': '',\n",
       "   'bookname': '',\n",
       "   'chapter': '',\n",
       "   'sortpubdate': '2020/02/01 00:00',\n",
       "   'sortfirstauthor': 'Menzhinskaya IV',\n",
       "   'vernaculartitle': 'Autoimmunnye markery dlia neinvazivnoĭ diagnostiki éndometrioza u zhenshchin.'}}}"
      ]
     },
     "execution_count": 5,
     "metadata": {},
     "output_type": "execute_result"
    }
   ],
   "source": [
    "summary = entrez_api.summarize(endo_biomarkers.data['esearchresult']['idlist'][:2], max_results=10_000)\n",
    "summary.data"
   ]
  }
 ],
 "metadata": {
  "kernelspec": {
   "display_name": "Python 3",
   "language": "python",
   "name": "python3"
  },
  "language_info": {
   "codemirror_mode": {
    "name": "ipython",
    "version": 3
   },
   "file_extension": ".py",
   "mimetype": "text/x-python",
   "name": "python",
   "nbconvert_exporter": "python",
   "pygments_lexer": "ipython3",
   "version": "3.8.3"
  }
 },
 "nbformat": 4,
 "nbformat_minor": 4
}
